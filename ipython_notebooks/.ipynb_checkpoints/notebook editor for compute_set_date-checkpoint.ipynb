{
  "nbformat": 4,
  "nbformat_minor": 0,
  "metadata": {
    "kernelspec": {
      "display_name": "Python 3",
      "language": "python",
      "name": "python3"
    },
    "associatedRecipe": "compute_set_date",
    "dkuGit": {
      "lastInteraction": 0
    },
    "creationTag": {
      "versionNumber": 0,
      "lastModifiedBy": {
        "login": "admin"
      },
      "lastModifiedOn": 1642014613735
    },
    "creator": "admin",
    "createdOn": 1642014613735,
    "tags": [
      "recipe-editor"
    ],
    "customFields": {}
  },
  "cells": [
    {
      "cell_type": "code",
      "metadata": {},
      "outputs": [],
      "execution_count": 0,
      "source": [
        "# -*- coding: utf-8 -*-\n",
        "import dataiku\n",
        "import pandas as pd, numpy as np\n",
        "from dataiku import pandasutils as pdu\n",
        "\n",
        "# Read recipe inputs\n",
        "full_data \u003d dataiku.Dataset(\"full_data\")\n",
        "full_data_df \u003d full_data.get_dataframe()\n",
        "\n",
        "#add the start of the month so date can be parsed in future preparation and feature engineering\n",
        "full_data_df[\u0027earliest_cr_line\u0027] \u003d full_data_df[\u0027earliest_cr_line\u0027] + \u0027-01\u0027\n",
        "full_data_df.head()\n",
        "\n",
        "# Compute recipe outputs from inputs\n",
        "# TODO: Replace this part by your actual code that computes the output, as a Pandas dataframe\n",
        "# NB: DSS also supports other kinds of APIs for reading and writing data. Please see doc.\n",
        "\n",
        "set_date_df \u003d full_data_df # For this sample code, simply copy input to output\n",
        "\n",
        "\n",
        "# Write recipe outputs\n",
        "set_date \u003d dataiku.Dataset(\"set_date\")\n",
        "set_date.write_with_schema(set_date_df)"
      ]
    }
  ]
}