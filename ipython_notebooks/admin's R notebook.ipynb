{
  "metadata": {
    "kernelspec": {
      "name": "ir",
      "display_name": "R",
      "language": "R"
    },
    "creator": "admin",
    "createdOn": 1641419101608,
    "tags": [],
    "customFields": {},
    "hide_input": false,
    "language_info": {
      "name": "R",
      "codemirror_mode": "r",
      "pygments_lexer": "r",
      "mimetype": "text/x-r-source",
      "file_extension": ".r",
      "version": "3.6.3"
    },
    "modifiedBy": "admin"
  },
  "nbformat": 4,
  "nbformat_minor": 1,
  "cells": [
    {
      "execution_count": 1,
      "cell_type": "code",
      "metadata": {},
      "source": [
        "library(dataiku)"
      ],
      "outputs": []
    },
    {
      "execution_count": 2,
      "cell_type": "code",
      "metadata": {},
      "source": [
        "# Example: load a DSS dataset as a R dataframe\nmydataset \u003c- dkuReadDataset(\"full_data\", samplingMethod\u003d\"head\", nbRows\u003d100000)"
      ],
      "outputs": [
        {
          "output_type": "stream",
          "text": "Warning message:\n“`funs()` was deprecated in dplyr 0.8.0.\nPlease use a list of either functions or lambdas: \n\n  # Simple named list: \n  list(mean \u003d mean, median \u003d median)\n\n  # Auto named with `tibble::lst()`: \n  tibble::lst(mean, median)\n\n  # Using lambdas\n  list(~ mean(., trim \u003d .2), ~ median(., na.rm \u003d TRUE))\n\u001b[90mThis warning is displayed once every 8 hours.\u001b[39m\n\u001b[90mCall `lifecycle::last_lifecycle_warnings()` to see where this warning was generated.\u001b[39m”\n",
          "name": "stderr"
        }
      ]
    },
    {
      "execution_count": 3,
      "cell_type": "code",
      "metadata": {},
      "source": [
        "head(mydataset, 5)"
      ],
      "outputs": [
        {
          "output_type": "display_data",
          "data": {
            "text/html": "\u003ctable class\u003d\"dataframe\"\u003e\n\u003ccaption\u003eA data.frame: 5 × 28\u003c/caption\u003e\n\u003cthead\u003e\n\t\u003ctr\u003e\u003cth\u003e\u003c/th\u003e\u003cth scope\u003dcol\u003eid\u003c/th\u003e\u003cth scope\u003dcol\u003eemp_title\u003c/th\u003e\u003cth scope\u003dcol\u003eemp_length\u003c/th\u003e\u003cth scope\u003dcol\u003ehome_ownership\u003c/th\u003e\u003cth scope\u003dcol\u003eannual_inc\u003c/th\u003e\u003cth scope\u003dcol\u003everification_status\u003c/th\u003e\u003cth scope\u003dcol\u003eaddr_state\u003c/th\u003e\u003cth scope\u003dcol\u003emort_acc\u003c/th\u003e\u003cth scope\u003dcol\u003edti\u003c/th\u003e\u003cth scope\u003dcol\u003edelinq_2yrs\u003c/th\u003e\u003cth scope\u003dcol\u003e⋯\u003c/th\u003e\u003cth scope\u003dcol\u003eall_util\u003c/th\u003e\u003cth scope\u003dcol\u003einq_last_12m\u003c/th\u003e\u003cth scope\u003dcol\u003echargeoff_within_12_mths\u003c/th\u003e\u003cth scope\u003dcol\u003enum_accts_ever_120_pd\u003c/th\u003e\u003cth scope\u003dcol\u003eloan_amnt\u003c/th\u003e\u003cth scope\u003dcol\u003eterm\u003c/th\u003e\u003cth scope\u003dcol\u003eint_rate\u003c/th\u003e\u003cth scope\u003dcol\u003epurpose\u003c/th\u003e\u003cth scope\u003dcol\u003etitle\u003c/th\u003e\u003cth scope\u003dcol\u003eDefault\u003c/th\u003e\u003c/tr\u003e\n\t\u003ctr\u003e\u003cth\u003e\u003c/th\u003e\u003cth scope\u003dcol\u003e\u0026lt;int\u0026gt;\u003c/th\u003e\u003cth scope\u003dcol\u003e\u0026lt;chr\u0026gt;\u003c/th\u003e\u003cth scope\u003dcol\u003e\u0026lt;chr\u0026gt;\u003c/th\u003e\u003cth scope\u003dcol\u003e\u0026lt;chr\u0026gt;\u003c/th\u003e\u003cth scope\u003dcol\u003e\u0026lt;dbl\u0026gt;\u003c/th\u003e\u003cth scope\u003dcol\u003e\u0026lt;chr\u0026gt;\u003c/th\u003e\u003cth scope\u003dcol\u003e\u0026lt;chr\u0026gt;\u003c/th\u003e\u003cth scope\u003dcol\u003e\u0026lt;int\u0026gt;\u003c/th\u003e\u003cth scope\u003dcol\u003e\u0026lt;dbl\u0026gt;\u003c/th\u003e\u003cth scope\u003dcol\u003e\u0026lt;int\u0026gt;\u003c/th\u003e\u003cth scope\u003dcol\u003e⋯\u003c/th\u003e\u003cth scope\u003dcol\u003e\u0026lt;int\u0026gt;\u003c/th\u003e\u003cth scope\u003dcol\u003e\u0026lt;int\u0026gt;\u003c/th\u003e\u003cth scope\u003dcol\u003e\u0026lt;int\u0026gt;\u003c/th\u003e\u003cth scope\u003dcol\u003e\u0026lt;int\u0026gt;\u003c/th\u003e\u003cth scope\u003dcol\u003e\u0026lt;int\u0026gt;\u003c/th\u003e\u003cth scope\u003dcol\u003e\u0026lt;chr\u0026gt;\u003c/th\u003e\u003cth scope\u003dcol\u003e\u0026lt;chr\u0026gt;\u003c/th\u003e\u003cth scope\u003dcol\u003e\u0026lt;chr\u0026gt;\u003c/th\u003e\u003cth scope\u003dcol\u003e\u0026lt;chr\u0026gt;\u003c/th\u003e\u003cth scope\u003dcol\u003e\u0026lt;int\u0026gt;\u003c/th\u003e\u003c/tr\u003e\n\u003c/thead\u003e\n\u003ctbody\u003e\n\t\u003ctr\u003e\u003cth scope\u003drow\u003e1\u003c/th\u003e\u003ctd\u003e1069759\u003c/td\u003e\u003ctd\u003eInternal revenue Service\u003c/td\u003e\u003ctd\u003e\u0026lt; 1 year \u003c/td\u003e\u003ctd\u003e\u003cspan style\u003dwhite-space:pre-wrap\u003eRENT    \u003c/span\u003e\u003c/td\u003e\u003ctd\u003e28000\u003c/td\u003e\u003ctd\u003eNot Verified\u003c/td\u003e\u003ctd\u003eMO\u003c/td\u003e\u003ctd\u003eNA\u003c/td\u003e\u003ctd\u003e20.31\u003c/td\u003e\u003ctd\u003e0\u003c/td\u003e\u003ctd\u003e⋯\u003c/td\u003e\u003ctd\u003eNA\u003c/td\u003e\u003ctd\u003eNA\u003c/td\u003e\u003ctd\u003e0\u003c/td\u003e\u003ctd\u003eNA\u003c/td\u003e\u003ctd\u003e 1000\u003c/td\u003e\u003ctd\u003e36 months\u003c/td\u003e\u003ctd\u003e16.29%\u003c/td\u003e\u003ctd\u003edebt_consolidation\u003c/td\u003e\u003ctd\u003eDebt Consolidation Loan\u003c/td\u003e\u003ctd\u003e0\u003c/td\u003e\u003c/tr\u003e\n\t\u003ctr\u003e\u003cth scope\u003drow\u003e2\u003c/th\u003e\u003ctd\u003e1049528\u003c/td\u003e\u003ctd\u003eNCS Technologies        \u003c/td\u003e\u003ctd\u003e4 years  \u003c/td\u003e\u003ctd\u003eMORTGAGE\u003c/td\u003e\u003ctd\u003e47800\u003c/td\u003e\u003ctd\u003eVerified    \u003c/td\u003e\u003ctd\u003eVA\u003c/td\u003e\u003ctd\u003eNA\u003c/td\u003e\u003ctd\u003e10.04\u003c/td\u003e\u003ctd\u003e0\u003c/td\u003e\u003ctd\u003e⋯\u003c/td\u003e\u003ctd\u003eNA\u003c/td\u003e\u003ctd\u003eNA\u003c/td\u003e\u003ctd\u003e0\u003c/td\u003e\u003ctd\u003eNA\u003c/td\u003e\u003ctd\u003e20000\u003c/td\u003e\u003ctd\u003e60 months\u003c/td\u003e\u003ctd\u003e11.71%\u003c/td\u003e\u003ctd\u003edebt_consolidation\u003c/td\u003e\u003ctd\u003eBill Consolidation     \u003c/td\u003e\u003ctd\u003e0\u003c/td\u003e\u003c/tr\u003e\n\t\u003ctr\u003e\u003cth scope\u003drow\u003e3\u003c/th\u003e\u003ctd\u003e1063270\u003c/td\u003e\u003ctd\u003eDennis Alleman DMD      \u003c/td\u003e\u003ctd\u003e5 years  \u003c/td\u003e\u003ctd\u003eMORTGAGE\u003c/td\u003e\u003ctd\u003e23000\u003c/td\u003e\u003ctd\u003eNot Verified\u003c/td\u003e\u003ctd\u003eOR\u003c/td\u003e\u003ctd\u003eNA\u003c/td\u003e\u003ctd\u003e18.89\u003c/td\u003e\u003ctd\u003e0\u003c/td\u003e\u003ctd\u003e⋯\u003c/td\u003e\u003ctd\u003eNA\u003c/td\u003e\u003ctd\u003eNA\u003c/td\u003e\u003ctd\u003e0\u003c/td\u003e\u003ctd\u003eNA\u003c/td\u003e\u003ctd\u003e10625\u003c/td\u003e\u003ctd\u003e36 months\u003c/td\u003e\u003ctd\u003e7.51% \u003c/td\u003e\u003ctd\u003emedical           \u003c/td\u003e\u003ctd\u003eBills                  \u003c/td\u003e\u003ctd\u003e0\u003c/td\u003e\u003c/tr\u003e\n\t\u003ctr\u003e\u003cth scope\u003drow\u003e4\u003c/th\u003e\u003ctd\u003e1059412\u003c/td\u003e\u003ctd\u003eMarshall Realty         \u003c/td\u003e\u003ctd\u003e5 years  \u003c/td\u003e\u003ctd\u003eMORTGAGE\u003c/td\u003e\u003ctd\u003e70000\u003c/td\u003e\u003ctd\u003eNot Verified\u003c/td\u003e\u003ctd\u003eNY\u003c/td\u003e\u003ctd\u003eNA\u003c/td\u003e\u003ctd\u003e16.78\u003c/td\u003e\u003ctd\u003e0\u003c/td\u003e\u003ctd\u003e⋯\u003c/td\u003e\u003ctd\u003eNA\u003c/td\u003e\u003ctd\u003eNA\u003c/td\u003e\u003ctd\u003e0\u003c/td\u003e\u003ctd\u003eNA\u003c/td\u003e\u003ctd\u003e10000\u003c/td\u003e\u003ctd\u003e36 months\u003c/td\u003e\u003ctd\u003e6.62% \u003c/td\u003e\u003ctd\u003ecredit_card       \u003c/td\u003e\u003ctd\u003ecredit card payoff     \u003c/td\u003e\u003ctd\u003e0\u003c/td\u003e\u003c/tr\u003e\n\t\u003ctr\u003e\u003cth scope\u003drow\u003e5\u003c/th\u003e\u003ctd\u003e1065304\u003c/td\u003e\u003ctd\u003eShaws                   \u003c/td\u003e\u003ctd\u003e10+ years\u003c/td\u003e\u003ctd\u003eRENT    \u003c/td\u003e\u003ctd\u003e55000\u003c/td\u003e\u003ctd\u003eNot Verified\u003c/td\u003e\u003ctd\u003eRI\u003c/td\u003e\u003ctd\u003eNA\u003c/td\u003e\u003ctd\u003e13.00\u003c/td\u003e\u003ctd\u003e0\u003c/td\u003e\u003ctd\u003e⋯\u003c/td\u003e\u003ctd\u003eNA\u003c/td\u003e\u003ctd\u003eNA\u003c/td\u003e\u003ctd\u003e0\u003c/td\u003e\u003ctd\u003eNA\u003c/td\u003e\u003ctd\u003e12000\u003c/td\u003e\u003ctd\u003e36 months\u003c/td\u003e\u003ctd\u003e9.91% \u003c/td\u003e\u003ctd\u003edebt_consolidation\u003c/td\u003e\u003ctd\u003eZero Balance Project   \u003c/td\u003e\u003ctd\u003e1\u003c/td\u003e\u003c/tr\u003e\n\u003c/tbody\u003e\n\u003c/table\u003e\n",
            "text/markdown": "\nA data.frame: 5 × 28\n\n| \u003c!--/--\u003e | id \u0026lt;int\u0026gt; | emp_title \u0026lt;chr\u0026gt; | emp_length \u0026lt;chr\u0026gt; | home_ownership \u0026lt;chr\u0026gt; | annual_inc \u0026lt;dbl\u0026gt; | verification_status \u0026lt;chr\u0026gt; | addr_state \u0026lt;chr\u0026gt; | mort_acc \u0026lt;int\u0026gt; | dti \u0026lt;dbl\u0026gt; | delinq_2yrs \u0026lt;int\u0026gt; | ⋯ ⋯ | all_util \u0026lt;int\u0026gt; | inq_last_12m \u0026lt;int\u0026gt; | chargeoff_within_12_mths \u0026lt;int\u0026gt; | num_accts_ever_120_pd \u0026lt;int\u0026gt; | loan_amnt \u0026lt;int\u0026gt; | term \u0026lt;chr\u0026gt; | int_rate \u0026lt;chr\u0026gt; | purpose \u0026lt;chr\u0026gt; | title \u0026lt;chr\u0026gt; | Default \u0026lt;int\u0026gt; |\n|---|---|---|---|---|---|---|---|---|---|---|---|---|---|---|---|---|---|---|---|---|---|\n| 1 | 1069759 | Internal revenue Service | \u0026lt; 1 year  | RENT     | 28000 | Not Verified | MO | NA | 20.31 | 0 | ⋯ | NA | NA | 0 | NA |  1000 | 36 months | 16.29% | debt_consolidation | Debt Consolidation Loan | 0 |\n| 2 | 1049528 | NCS Technologies         | 4 years   | MORTGAGE | 47800 | Verified     | VA | NA | 10.04 | 0 | ⋯ | NA | NA | 0 | NA | 20000 | 60 months | 11.71% | debt_consolidation | Bill Consolidation      | 0 |\n| 3 | 1063270 | Dennis Alleman DMD       | 5 years   | MORTGAGE | 23000 | Not Verified | OR | NA | 18.89 | 0 | ⋯ | NA | NA | 0 | NA | 10625 | 36 months | 7.51%  | medical            | Bills                   | 0 |\n| 4 | 1059412 | Marshall Realty          | 5 years   | MORTGAGE | 70000 | Not Verified | NY | NA | 16.78 | 0 | ⋯ | NA | NA | 0 | NA | 10000 | 36 months | 6.62%  | credit_card        | credit card payoff      | 0 |\n| 5 | 1065304 | Shaws                    | 10+ years | RENT     | 55000 | Not Verified | RI | NA | 13.00 | 0 | ⋯ | NA | NA | 0 | NA | 12000 | 36 months | 9.91%  | debt_consolidation | Zero Balance Project    | 1 |\n\n",
            "text/latex": "A data.frame: 5 × 28\n\\begin{tabular}{r|lllllllllllllllllllll}\n  \u0026 id \u0026 emp\\_title \u0026 emp\\_length \u0026 home\\_ownership \u0026 annual\\_inc \u0026 verification\\_status \u0026 addr\\_state \u0026 mort\\_acc \u0026 dti \u0026 delinq\\_2yrs \u0026 ⋯ \u0026 all\\_util \u0026 inq\\_last\\_12m \u0026 chargeoff\\_within\\_12\\_mths \u0026 num\\_accts\\_ever\\_120\\_pd \u0026 loan\\_amnt \u0026 term \u0026 int\\_rate \u0026 purpose \u0026 title \u0026 Default\\\\\n  \u0026 \u003cint\u003e \u0026 \u003cchr\u003e \u0026 \u003cchr\u003e \u0026 \u003cchr\u003e \u0026 \u003cdbl\u003e \u0026 \u003cchr\u003e \u0026 \u003cchr\u003e \u0026 \u003cint\u003e \u0026 \u003cdbl\u003e \u0026 \u003cint\u003e \u0026 ⋯ \u0026 \u003cint\u003e \u0026 \u003cint\u003e \u0026 \u003cint\u003e \u0026 \u003cint\u003e \u0026 \u003cint\u003e \u0026 \u003cchr\u003e \u0026 \u003cchr\u003e \u0026 \u003cchr\u003e \u0026 \u003cchr\u003e \u0026 \u003cint\u003e\\\\\n\\hline\n\t1 \u0026 1069759 \u0026 Internal revenue Service \u0026 \u003c 1 year  \u0026 RENT     \u0026 28000 \u0026 Not Verified \u0026 MO \u0026 NA \u0026 20.31 \u0026 0 \u0026 ⋯ \u0026 NA \u0026 NA \u0026 0 \u0026 NA \u0026  1000 \u0026 36 months \u0026 16.29\\% \u0026 debt\\_consolidation \u0026 Debt Consolidation Loan \u0026 0\\\\\n\t2 \u0026 1049528 \u0026 NCS Technologies         \u0026 4 years   \u0026 MORTGAGE \u0026 47800 \u0026 Verified     \u0026 VA \u0026 NA \u0026 10.04 \u0026 0 \u0026 ⋯ \u0026 NA \u0026 NA \u0026 0 \u0026 NA \u0026 20000 \u0026 60 months \u0026 11.71\\% \u0026 debt\\_consolidation \u0026 Bill Consolidation      \u0026 0\\\\\n\t3 \u0026 1063270 \u0026 Dennis Alleman DMD       \u0026 5 years   \u0026 MORTGAGE \u0026 23000 \u0026 Not Verified \u0026 OR \u0026 NA \u0026 18.89 \u0026 0 \u0026 ⋯ \u0026 NA \u0026 NA \u0026 0 \u0026 NA \u0026 10625 \u0026 36 months \u0026 7.51\\%  \u0026 medical            \u0026 Bills                   \u0026 0\\\\\n\t4 \u0026 1059412 \u0026 Marshall Realty          \u0026 5 years   \u0026 MORTGAGE \u0026 70000 \u0026 Not Verified \u0026 NY \u0026 NA \u0026 16.78 \u0026 0 \u0026 ⋯ \u0026 NA \u0026 NA \u0026 0 \u0026 NA \u0026 10000 \u0026 36 months \u0026 6.62\\%  \u0026 credit\\_card        \u0026 credit card payoff      \u0026 0\\\\\n\t5 \u0026 1065304 \u0026 Shaws                    \u0026 10+ years \u0026 RENT     \u0026 55000 \u0026 Not Verified \u0026 RI \u0026 NA \u0026 13.00 \u0026 0 \u0026 ⋯ \u0026 NA \u0026 NA \u0026 0 \u0026 NA \u0026 12000 \u0026 36 months \u0026 9.91\\%  \u0026 debt\\_consolidation \u0026 Zero Balance Project    \u0026 1\\\\\n\\end{tabular}\n",
            "text/plain": "  id      emp_title                emp_length home_ownership annual_inc\n1 1069759 Internal revenue Service \u003c 1 year   RENT           28000     \n2 1049528 NCS Technologies         4 years    MORTGAGE       47800     \n3 1063270 Dennis Alleman DMD       5 years    MORTGAGE       23000     \n4 1059412 Marshall Realty          5 years    MORTGAGE       70000     \n5 1065304 Shaws                    10+ years  RENT           55000     \n  verification_status addr_state mort_acc dti   delinq_2yrs ⋯ all_util\n1 Not Verified        MO         NA       20.31 0           ⋯ NA      \n2 Verified            VA         NA       10.04 0           ⋯ NA      \n3 Not Verified        OR         NA       18.89 0           ⋯ NA      \n4 Not Verified        NY         NA       16.78 0           ⋯ NA      \n5 Not Verified        RI         NA       13.00 0           ⋯ NA      \n  inq_last_12m chargeoff_within_12_mths num_accts_ever_120_pd loan_amnt\n1 NA           0                        NA                     1000    \n2 NA           0                        NA                    20000    \n3 NA           0                        NA                    10625    \n4 NA           0                        NA                    10000    \n5 NA           0                        NA                    12000    \n  term      int_rate purpose            title                   Default\n1 36 months 16.29%   debt_consolidation Debt Consolidation Loan 0      \n2 60 months 11.71%   debt_consolidation Bill Consolidation      0      \n3 36 months 7.51%    medical            Bills                   0      \n4 36 months 6.62%    credit_card        credit card payoff      0      \n5 36 months 9.91%    debt_consolidation Zero Balance Project    1      "
          },
          "metadata": {}
        }
      ]
    },
    {
      "execution_count": 0,
      "cell_type": "code",
      "metadata": {},
      "source": [
        ""
      ],
      "outputs": []
    }
  ]
}